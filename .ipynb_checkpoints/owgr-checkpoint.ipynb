{
 "cells": [
  {
   "cell_type": "code",
   "execution_count": 1,
   "metadata": {},
   "outputs": [],
   "source": [
    "import pandas as pd\n",
    "import json\n",
    "import urllib.request\n",
    "import matplotlib.pyplot as plt"
   ]
  },
  {
   "cell_type": "code",
   "execution_count": 2,
   "metadata": {},
   "outputs": [],
   "source": [
    "player_name_id_map = pd.read_csv('./data/player_name_id_map.csv')\n",
    "\n",
    "masters_champ = pd.read_csv('./data/masters_champ.csv')\n",
    "us_open_champ = pd.read_csv('./data/us_open_champ.csv')\n",
    "british_open_champ = pd.read_csv('./data/british_open_champ.csv')\n",
    "uspga_champ = pd.read_csv('./data/uspga_champ.csv')\n",
    "\n",
    "hist_acc = []\n",
    "cache = {}\n",
    "\n",
    "def fetch_player_ranking_data(player_id):\n",
    "    owgr_url = 'http://www.owgr.com/layouts/OWGR/PlayerRankingsForGraph.aspx?playerID={}'.format(player_id)\n",
    "\n",
    "    with urllib.request.urlopen(owgr_url) as response:\n",
    "        res = response.read()\n",
    "        return json.loads(json.loads(res))"
   ]
  },
  {
   "cell_type": "code",
   "execution_count": 3,
   "metadata": {},
   "outputs": [
    {
     "data": {
      "text/html": [
       "<div>\n",
       "<style scoped>\n",
       "    .dataframe tbody tr th:only-of-type {\n",
       "        vertical-align: middle;\n",
       "    }\n",
       "\n",
       "    .dataframe tbody tr th {\n",
       "        vertical-align: top;\n",
       "    }\n",
       "\n",
       "    .dataframe thead th {\n",
       "        text-align: right;\n",
       "    }\n",
       "</style>\n",
       "<table border=\"1\" class=\"dataframe\">\n",
       "  <thead>\n",
       "    <tr style=\"text-align: right;\">\n",
       "      <th></th>\n",
       "      <th>year</th>\n",
       "      <th>player</th>\n",
       "      <th>week_start</th>\n",
       "      <th>week_end</th>\n",
       "    </tr>\n",
       "  </thead>\n",
       "  <tbody>\n",
       "    <tr>\n",
       "      <th>0</th>\n",
       "      <td>2019</td>\n",
       "      <td>Tiger Woods</td>\n",
       "      <td>2019-04-07</td>\n",
       "      <td>2019-04-14</td>\n",
       "    </tr>\n",
       "    <tr>\n",
       "      <th>1</th>\n",
       "      <td>2018</td>\n",
       "      <td>Patrick Reed</td>\n",
       "      <td>2018-04-01</td>\n",
       "      <td>2018-04-08</td>\n",
       "    </tr>\n",
       "    <tr>\n",
       "      <th>2</th>\n",
       "      <td>2017</td>\n",
       "      <td>Sergio Garcia</td>\n",
       "      <td>2017-04-02</td>\n",
       "      <td>2017-04-09</td>\n",
       "    </tr>\n",
       "    <tr>\n",
       "      <th>3</th>\n",
       "      <td>2016</td>\n",
       "      <td>Danny Willett</td>\n",
       "      <td>2016-04-03</td>\n",
       "      <td>2016-04-10</td>\n",
       "    </tr>\n",
       "    <tr>\n",
       "      <th>4</th>\n",
       "      <td>2015</td>\n",
       "      <td>Jordan Spieth</td>\n",
       "      <td>2015-04-05</td>\n",
       "      <td>2015-04-12</td>\n",
       "    </tr>\n",
       "    <tr>\n",
       "      <th>...</th>\n",
       "      <td>...</td>\n",
       "      <td>...</td>\n",
       "      <td>...</td>\n",
       "      <td>...</td>\n",
       "    </tr>\n",
       "    <tr>\n",
       "      <th>30</th>\n",
       "      <td>1990</td>\n",
       "      <td>Wayne Grady</td>\n",
       "      <td>1990-08-05</td>\n",
       "      <td>1990-08-12</td>\n",
       "    </tr>\n",
       "    <tr>\n",
       "      <th>31</th>\n",
       "      <td>1989</td>\n",
       "      <td>Payne Stewart</td>\n",
       "      <td>1989-08-06</td>\n",
       "      <td>1989-08-13</td>\n",
       "    </tr>\n",
       "    <tr>\n",
       "      <th>32</th>\n",
       "      <td>1988</td>\n",
       "      <td>Jeff Sluman</td>\n",
       "      <td>1988-08-07</td>\n",
       "      <td>1988-08-14</td>\n",
       "    </tr>\n",
       "    <tr>\n",
       "      <th>33</th>\n",
       "      <td>1987</td>\n",
       "      <td>Larry Nelson</td>\n",
       "      <td>1987-08-02</td>\n",
       "      <td>1987-08-09</td>\n",
       "    </tr>\n",
       "    <tr>\n",
       "      <th>34</th>\n",
       "      <td>1986</td>\n",
       "      <td>Bob Tway</td>\n",
       "      <td>1986-08-04</td>\n",
       "      <td>1986-08-11</td>\n",
       "    </tr>\n",
       "  </tbody>\n",
       "</table>\n",
       "<p>138 rows × 4 columns</p>\n",
       "</div>"
      ],
      "text/plain": [
       "    year         player  week_start    week_end\n",
       "0   2019    Tiger Woods  2019-04-07  2019-04-14\n",
       "1   2018   Patrick Reed  2018-04-01  2018-04-08\n",
       "2   2017  Sergio Garcia  2017-04-02  2017-04-09\n",
       "3   2016  Danny Willett  2016-04-03  2016-04-10\n",
       "4   2015  Jordan Spieth  2015-04-05  2015-04-12\n",
       "..   ...            ...         ...         ...\n",
       "30  1990    Wayne Grady  1990-08-05  1990-08-12\n",
       "31  1989  Payne Stewart  1989-08-06  1989-08-13\n",
       "32  1988    Jeff Sluman  1988-08-07  1988-08-14\n",
       "33  1987   Larry Nelson  1987-08-02  1987-08-09\n",
       "34  1986       Bob Tway  1986-08-04  1986-08-11\n",
       "\n",
       "[138 rows x 4 columns]"
      ]
     },
     "execution_count": 3,
     "metadata": {},
     "output_type": "execute_result"
    }
   ],
   "source": [
    "combined_df =  masters_champ.append(us_open_champ).append(british_open_champ).append(uspga_champ)\n",
    "combined_df"
   ]
  },
  {
   "cell_type": "code",
   "execution_count": 15,
   "metadata": {},
   "outputs": [],
   "source": [
    "for idx, row in combined_df.iterrows():\n",
    "    \n",
    "    player_name = row['player']\n",
    "    player_row = player_name_id_map.loc[player_name_id_map['name'] == player_name]\n",
    "    player_id = player_row['player_id'].values[0]\n",
    "    week_start = row['week_start']\n",
    "    \n",
    "    if player_name not in cache:\n",
    "        player_stats = fetch_player_ranking_data(player_id)\n",
    "        cache[player_name] = player_stats\n",
    "    else:\n",
    "        player_stats = cache[player_name]\n",
    "        \n",
    "    for entry in player_stats[\"player\"]:\n",
    "        if 'week' in entry:\n",
    "            if entry['week'] == week_start:\n",
    "                rank = entry['rank']\n",
    "                hist_acc.append(rank)"
   ]
  },
  {
   "cell_type": "code",
   "execution_count": 33,
   "metadata": {},
   "outputs": [
    {
     "name": "stderr",
     "output_type": "stream",
     "text": [
      "No handles with labels found to put in legend.\n"
     ]
    },
    {
     "data": {
      "text/plain": [
       "<matplotlib.legend.Legend at 0x7fea690e5390>"
      ]
     },
     "execution_count": 33,
     "metadata": {},
     "output_type": "execute_result"
    },
    {
     "data": {
      "image/png": "[encoded data removed]",
      "text/plain": [
       "<Figure size 576x288 with 1 Axes>"
      ]
     },
     "metadata": {
      "needs_background": "light"
     },
     "output_type": "display_data"
    }
   ],
   "source": [
    "hist_acc_int = [int(i) for i in hist_acc]\n",
    "fig, axs = plt.subplots(1, 1, figsize=(8,4))\n",
    "(bins, edges, p) = axs.hist(hist_acc_int, bins=252)\n",
    "\n",
    "axs.set_ylabel('n wins')\n",
    "axs.set_xlabel('owgr')\n",
    "axs.legend(loc=1)\n"
   ]
  },
  {
   "cell_type": "code",
   "execution_count": 35,
   "metadata": {},
   "outputs": [
    {
     "name": "stdout",
     "output_type": "stream",
     "text": [
      "0.5793650793650794\n",
      "0.6666666666666666\n",
      "0.7619047619047619\n",
      "0.873015873015873\n"
     ]
    }
   ],
   "source": [
    "print(sum(bins[0:10])/len(bins))\n",
    "print(sum(bins[0:15])/len(bins))\n",
    "print(sum(bins[0:25])/len(bins))\n",
    "print(sum(bins[0:50])/len(bins))"
   ]
  },
  {
   "cell_type": "code",
   "execution_count": 37,
   "metadata": {},
   "outputs": [],
   "source": [
    "# with open('cache.json', 'w') as outfile:\n",
    "#     json.dump(cache, outfile)"
   ]
  },
  {
   "cell_type": "code",
   "execution_count": null,
   "metadata": {},
   "outputs": [],
   "source": []
  }
 ],
 "metadata": {
  "kernelspec": {
   "display_name": "Python 3",
   "language": "python",
   "name": "python3"
  },
  "language_info": {
   "codemirror_mode": {
    "name": "ipython",
    "version": 3
   },
   "file_extension": ".py",
   "mimetype": "text/x-python",
   "name": "python",
   "nbconvert_exporter": "python",
   "pygments_lexer": "ipython3",
   "version": "3.7.6"
  }
 },
 "nbformat": 4,
 "nbformat_minor": 4
}
